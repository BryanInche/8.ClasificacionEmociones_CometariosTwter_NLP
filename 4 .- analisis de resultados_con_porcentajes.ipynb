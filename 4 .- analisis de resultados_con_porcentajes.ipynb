{
 "cells": [
  {
   "cell_type": "code",
   "execution_count": 1,
   "metadata": {},
   "outputs": [],
   "source": [
    "import pandas as pd\n",
    "import numpy as np"
   ]
  },
  {
   "cell_type": "code",
   "execution_count": 2,
   "metadata": {},
   "outputs": [],
   "source": [
    "# leer ba base de datos de tweets\n",
    "tweets = pd.read_csv(r\"C:\\Users\\Bryan\\Analitica de la web\\Trabajo Final Final\\Trabajo Final Final\\recursos\\prediccion\\bd_tweets.csv\")  #recursos/prediccion/bd_tweets.csv"
   ]
  },
  {
   "cell_type": "code",
   "execution_count": 3,
   "metadata": {},
   "outputs": [],
   "source": [
    "tweets[\"fecha\"] = pd.to_datetime(tweets[\"fecha\"])\n",
    "tweets[\"fecha\"] = tweets[\"fecha\"].dt.tz_localize(None)"
   ]
  },
  {
   "cell_type": "code",
   "execution_count": 4,
   "metadata": {},
   "outputs": [
    {
     "name": "stdout",
     "output_type": "stream",
     "text": [
      "<class 'pandas.core.frame.DataFrame'>\n",
      "RangeIndex: 18352 entries, 0 to 18351\n",
      "Data columns (total 2 columns):\n",
      "fecha    18352 non-null datetime64[ns]\n",
      "texto    18352 non-null object\n",
      "dtypes: datetime64[ns](1), object(1)\n",
      "memory usage: 286.8+ KB\n"
     ]
    }
   ],
   "source": [
    "tweets.info()"
   ]
  },
  {
   "cell_type": "code",
   "execution_count": 5,
   "metadata": {},
   "outputs": [
    {
     "data": {
      "text/html": [
       "<div>\n",
       "<style scoped>\n",
       "    .dataframe tbody tr th:only-of-type {\n",
       "        vertical-align: middle;\n",
       "    }\n",
       "\n",
       "    .dataframe tbody tr th {\n",
       "        vertical-align: top;\n",
       "    }\n",
       "\n",
       "    .dataframe thead th {\n",
       "        text-align: right;\n",
       "    }\n",
       "</style>\n",
       "<table border=\"1\" class=\"dataframe\">\n",
       "  <thead>\n",
       "    <tr style=\"text-align: right;\">\n",
       "      <th></th>\n",
       "      <th>fecha</th>\n",
       "      <th>texto</th>\n",
       "    </tr>\n",
       "  </thead>\n",
       "  <tbody>\n",
       "    <tr>\n",
       "      <th>0</th>\n",
       "      <td>2020-03-03 23:04:32</td>\n",
       "      <td>Este fiscal está llenando la cárcel d prisione...</td>\n",
       "    </tr>\n",
       "    <tr>\n",
       "      <th>1</th>\n",
       "      <td>2020-03-03 22:53:53</td>\n",
       "      <td>Requisitos indispensables para ser Ministro de...</td>\n",
       "    </tr>\n",
       "    <tr>\n",
       "      <th>2</th>\n",
       "      <td>2020-03-03 22:46:57</td>\n",
       "      <td>Pedirle a la ciudadania ser PREVENIDA contra e...</td>\n",
       "    </tr>\n",
       "    <tr>\n",
       "      <th>3</th>\n",
       "      <td>2020-03-03 22:41:24</td>\n",
       "      <td>Gracias a #Vizcarra la policía tiene harto tra...</td>\n",
       "    </tr>\n",
       "    <tr>\n",
       "      <th>4</th>\n",
       "      <td>2020-03-03 20:01:31</td>\n",
       "      <td>Parece que si seguimos con #Vizcarra sólo crec...</td>\n",
       "    </tr>\n",
       "  </tbody>\n",
       "</table>\n",
       "</div>"
      ],
      "text/plain": [
       "                fecha                                              texto\n",
       "0 2020-03-03 23:04:32  Este fiscal está llenando la cárcel d prisione...\n",
       "1 2020-03-03 22:53:53  Requisitos indispensables para ser Ministro de...\n",
       "2 2020-03-03 22:46:57  Pedirle a la ciudadania ser PREVENIDA contra e...\n",
       "3 2020-03-03 22:41:24  Gracias a #Vizcarra la policía tiene harto tra...\n",
       "4 2020-03-03 20:01:31  Parece que si seguimos con #Vizcarra sólo crec..."
      ]
     },
     "execution_count": 5,
     "metadata": {},
     "output_type": "execute_result"
    }
   ],
   "source": [
    "tweets.head()"
   ]
  },
  {
   "cell_type": "code",
   "execution_count": 7,
   "metadata": {},
   "outputs": [],
   "source": [
    "# leer las polaridades de los tweets\n",
    "polaridad = pd.read_csv(r\"C:\\Users\\Bryan\\Analitica de la web\\Trabajo Final Final\\Trabajo Final Final\\recursos\\prediccion\\bd_tweets_polaridad.csv\")   #recursos/prediccion/bd_tweets_polaridad.csv "
   ]
  },
  {
   "cell_type": "code",
   "execution_count": 8,
   "metadata": {},
   "outputs": [
    {
     "name": "stdout",
     "output_type": "stream",
     "text": [
      "<class 'pandas.core.frame.DataFrame'>\n",
      "RangeIndex: 18352 entries, 0 to 18351\n",
      "Data columns (total 1 columns):\n",
      "# polaridad    18352 non-null int64\n",
      "dtypes: int64(1)\n",
      "memory usage: 143.5 KB\n"
     ]
    }
   ],
   "source": [
    "polaridad.info()"
   ]
  },
  {
   "cell_type": "code",
   "execution_count": 9,
   "metadata": {},
   "outputs": [],
   "source": [
    "# agregar la polaridad a los tweets\n",
    "tweets[\"polaridad\"] = polaridad[\"# polaridad\"]"
   ]
  },
  {
   "cell_type": "code",
   "execution_count": 10,
   "metadata": {},
   "outputs": [
    {
     "data": {
      "text/html": [
       "<div>\n",
       "<style scoped>\n",
       "    .dataframe tbody tr th:only-of-type {\n",
       "        vertical-align: middle;\n",
       "    }\n",
       "\n",
       "    .dataframe tbody tr th {\n",
       "        vertical-align: top;\n",
       "    }\n",
       "\n",
       "    .dataframe thead th {\n",
       "        text-align: right;\n",
       "    }\n",
       "</style>\n",
       "<table border=\"1\" class=\"dataframe\">\n",
       "  <thead>\n",
       "    <tr style=\"text-align: right;\">\n",
       "      <th></th>\n",
       "      <th>fecha</th>\n",
       "      <th>texto</th>\n",
       "      <th>polaridad</th>\n",
       "    </tr>\n",
       "  </thead>\n",
       "  <tbody>\n",
       "    <tr>\n",
       "      <th>0</th>\n",
       "      <td>2020-03-03 23:04:32</td>\n",
       "      <td>Este fiscal está llenando la cárcel d prisione...</td>\n",
       "      <td>0</td>\n",
       "    </tr>\n",
       "    <tr>\n",
       "      <th>1</th>\n",
       "      <td>2020-03-03 22:53:53</td>\n",
       "      <td>Requisitos indispensables para ser Ministro de...</td>\n",
       "      <td>0</td>\n",
       "    </tr>\n",
       "    <tr>\n",
       "      <th>2</th>\n",
       "      <td>2020-03-03 22:46:57</td>\n",
       "      <td>Pedirle a la ciudadania ser PREVENIDA contra e...</td>\n",
       "      <td>0</td>\n",
       "    </tr>\n",
       "    <tr>\n",
       "      <th>3</th>\n",
       "      <td>2020-03-03 22:41:24</td>\n",
       "      <td>Gracias a #Vizcarra la policía tiene harto tra...</td>\n",
       "      <td>0</td>\n",
       "    </tr>\n",
       "    <tr>\n",
       "      <th>4</th>\n",
       "      <td>2020-03-03 20:01:31</td>\n",
       "      <td>Parece que si seguimos con #Vizcarra sólo crec...</td>\n",
       "      <td>0</td>\n",
       "    </tr>\n",
       "  </tbody>\n",
       "</table>\n",
       "</div>"
      ],
      "text/plain": [
       "                fecha                                              texto  \\\n",
       "0 2020-03-03 23:04:32  Este fiscal está llenando la cárcel d prisione...   \n",
       "1 2020-03-03 22:53:53  Requisitos indispensables para ser Ministro de...   \n",
       "2 2020-03-03 22:46:57  Pedirle a la ciudadania ser PREVENIDA contra e...   \n",
       "3 2020-03-03 22:41:24  Gracias a #Vizcarra la policía tiene harto tra...   \n",
       "4 2020-03-03 20:01:31  Parece que si seguimos con #Vizcarra sólo crec...   \n",
       "\n",
       "   polaridad  \n",
       "0          0  \n",
       "1          0  \n",
       "2          0  \n",
       "3          0  \n",
       "4          0  "
      ]
     },
     "execution_count": 10,
     "metadata": {},
     "output_type": "execute_result"
    }
   ],
   "source": [
    "tweets.head()"
   ]
  },
  {
   "cell_type": "code",
   "execution_count": null,
   "metadata": {},
   "outputs": [],
   "source": []
  },
  {
   "cell_type": "code",
   "execution_count": 98,
   "metadata": {},
   "outputs": [],
   "source": [
    "# ejemplo e análisis\n",
    "filtro = (tweets[\"fecha\"] >= \"2020-06-23 06:00:00\") & (tweets[\"fecha\"] <= \"2020-06-30 12:00:00\")\n",
    "temp_df = tweets[filtro]"
   ]
  },
  {
   "cell_type": "code",
   "execution_count": 99,
   "metadata": {},
   "outputs": [
    {
     "data": {
      "text/html": [
       "<div>\n",
       "<style scoped>\n",
       "    .dataframe tbody tr th:only-of-type {\n",
       "        vertical-align: middle;\n",
       "    }\n",
       "\n",
       "    .dataframe tbody tr th {\n",
       "        vertical-align: top;\n",
       "    }\n",
       "\n",
       "    .dataframe thead th {\n",
       "        text-align: right;\n",
       "    }\n",
       "</style>\n",
       "<table border=\"1\" class=\"dataframe\">\n",
       "  <thead>\n",
       "    <tr style=\"text-align: right;\">\n",
       "      <th></th>\n",
       "      <th>fecha</th>\n",
       "      <th>texto</th>\n",
       "      <th>polaridad</th>\n",
       "    </tr>\n",
       "  </thead>\n",
       "  <tbody>\n",
       "    <tr>\n",
       "      <th>15310</th>\n",
       "      <td>2020-06-23 23:58:14</td>\n",
       "      <td>Karina Beteta.\\nAhora ciertos \"críticos\" empie...</td>\n",
       "      <td>0</td>\n",
       "    </tr>\n",
       "    <tr>\n",
       "      <th>15311</th>\n",
       "      <td>2020-06-23 23:50:01</td>\n",
       "      <td>Ayyyy la #curva\\nAyyyy la #matrizcarajo\\nAyyyy...</td>\n",
       "      <td>0</td>\n",
       "    </tr>\n",
       "    <tr>\n",
       "      <th>15312</th>\n",
       "      <td>2020-06-23 23:37:24</td>\n",
       "      <td>No te prestes a esto Rosangela. Es una cortina...</td>\n",
       "      <td>0</td>\n",
       "    </tr>\n",
       "    <tr>\n",
       "      <th>15313</th>\n",
       "      <td>2020-06-23 23:31:03</td>\n",
       "      <td>Y acá #Vizcarra es temeroso, en eso\\nOjalá q e...</td>\n",
       "      <td>0</td>\n",
       "    </tr>\n",
       "    <tr>\n",
       "      <th>15314</th>\n",
       "      <td>2020-06-23 22:55:13</td>\n",
       "      <td>Quizás si tiene razón ... Pero lo ideal sería ...</td>\n",
       "      <td>0</td>\n",
       "    </tr>\n",
       "  </tbody>\n",
       "</table>\n",
       "</div>"
      ],
      "text/plain": [
       "                    fecha                                              texto  \\\n",
       "15310 2020-06-23 23:58:14  Karina Beteta.\\nAhora ciertos \"críticos\" empie...   \n",
       "15311 2020-06-23 23:50:01  Ayyyy la #curva\\nAyyyy la #matrizcarajo\\nAyyyy...   \n",
       "15312 2020-06-23 23:37:24  No te prestes a esto Rosangela. Es una cortina...   \n",
       "15313 2020-06-23 23:31:03  Y acá #Vizcarra es temeroso, en eso\\nOjalá q e...   \n",
       "15314 2020-06-23 22:55:13  Quizás si tiene razón ... Pero lo ideal sería ...   \n",
       "\n",
       "       polaridad  \n",
       "15310          0  \n",
       "15311          0  \n",
       "15312          0  \n",
       "15313          0  \n",
       "15314          0  "
      ]
     },
     "execution_count": 99,
     "metadata": {},
     "output_type": "execute_result"
    }
   ],
   "source": [
    "temp_df.head()"
   ]
  },
  {
   "cell_type": "code",
   "execution_count": 100,
   "metadata": {},
   "outputs": [
    {
     "data": {
      "text/plain": [
       " 0    863\n",
       "-1     46\n",
       " 1     41\n",
       "Name: polaridad, dtype: int64"
      ]
     },
     "execution_count": 100,
     "metadata": {},
     "output_type": "execute_result"
    }
   ],
   "source": [
    "temp_df[\"polaridad\"].value_counts()"
   ]
  },
  {
   "cell_type": "code",
   "execution_count": 101,
   "metadata": {},
   "outputs": [],
   "source": [
    "result=temp_df[\"polaridad\"].value_counts()"
   ]
  },
  {
   "cell_type": "code",
   "execution_count": 102,
   "metadata": {},
   "outputs": [
    {
     "data": {
      "text/plain": [
       "4.315789473684211"
      ]
     },
     "execution_count": 102,
     "metadata": {},
     "output_type": "execute_result"
    }
   ],
   "source": [
    "porcentaje_posi=(result[1]/sum(result))*100\n",
    "porcentaje_posi"
   ]
  },
  {
   "cell_type": "code",
   "execution_count": 103,
   "metadata": {},
   "outputs": [
    {
     "data": {
      "text/plain": [
       "90.84210526315789"
      ]
     },
     "execution_count": 103,
     "metadata": {},
     "output_type": "execute_result"
    }
   ],
   "source": [
    "porcentaje_neutro=(result[0]/sum(result))*100\n",
    "porcentaje_neutro"
   ]
  },
  {
   "cell_type": "code",
   "execution_count": 104,
   "metadata": {},
   "outputs": [
    {
     "data": {
      "text/plain": [
       "4.842105263157895"
      ]
     },
     "execution_count": 104,
     "metadata": {},
     "output_type": "execute_result"
    }
   ],
   "source": [
    "porcentaje_nega=(result[-1]/sum(result))*100\n",
    "porcentaje_nega"
   ]
  }
 ],
 "metadata": {
  "kernelspec": {
   "display_name": "Python 3",
   "language": "python",
   "name": "python3"
  },
  "language_info": {
   "codemirror_mode": {
    "name": "ipython",
    "version": 3
   },
   "file_extension": ".py",
   "mimetype": "text/x-python",
   "name": "python",
   "nbconvert_exporter": "python",
   "pygments_lexer": "ipython3",
   "version": "3.7.3"
  }
 },
 "nbformat": 4,
 "nbformat_minor": 4
}
