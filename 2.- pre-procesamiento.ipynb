{
 "cells": [
  {
   "cell_type": "code",
   "execution_count": 1,
   "metadata": {},
   "outputs": [],
   "source": [
    "import pandas as pd\n",
    "import numpy as np\n",
    "import regex as re"
   ]
  },
  {
   "cell_type": "code",
   "execution_count": 2,
   "metadata": {},
   "outputs": [],
   "source": [
    "# funciones de limpieza de texto"
   ]
  },
  {
   "cell_type": "code",
   "execution_count": 3,
   "metadata": {},
   "outputs": [
    {
     "name": "stdout",
     "output_type": "stream",
     "text": [
      "Hoy estoy  preocupacion \n"
     ]
    }
   ],
   "source": [
    "diccionario = {\n",
    "    \"😊\": \"felicidad\",\n",
    "    \"😅\": \"risas\",\n",
    "    \"🤣\": \"risas\",\n",
    "    \"❤️\": \"amor\",\n",
    "    \"😰\": \"preocupacion\",\n",
    "    \"😎\": \"relajacion\",\n",
    "    \"💪\": \"animo\",\n",
    "    \"😉\": \"broma\",\n",
    "    \"😍\": \"encantado\",\n",
    "    \"😆\": \"risas\",\n",
    "    \"😄\": \"risas\",\n",
    "    \"😃\": \"risas\",\n",
    "    \"😇\": \"feliz\",\n",
    "    \"🙃\": \"sonrisa\",\n",
    "    \"😌\": \"tranquilidad\",\n",
    "    \"😜\": \"broma\",\n",
    "    \"🤪\": \"alegria\",\n",
    "    \"😫\": \"impotencia\",\n",
    "    \"😩\": \"infelicidad\",\n",
    "    \"😫\": \"frustración\",\n",
    "    \"🙁\": \"triste\",\n",
    "    \"😢\": \"muy triste\",\n",
    "    \"🤬\": \"maldad\",\n",
    "    \"😤\": \"enojada\",\n",
    "    \"😡\": \"muy enojada\",\n",
    "    \"😠\": \"molesto\",\n",
    "    \"😨\": \"asustado\",\n",
    "    \"😐\": \"neutral\",\n",
    "    \"🤔\": \"dudoso\",\n",
    "    \"😲\": \"sorpresa\",\n",
    "    \"🤥\": \"mentira\",\n",
    "    \"🙄\": \"indiferencia\",\n",
    "    \"🤑\": \"dinero\",\n",
    "    \"🙀\": \"sorprendido\",\n",
    "    \"👍\": \"aprobación\",\n",
    "    \"👎\": \"desaprobación\",\n",
    "    \"👏\": \"admiración\"\n",
    "    \n",
    "}\n",
    "\n",
    "def reemplazarEmoji(sentence): \n",
    "    new_sntc = \"\"\n",
    "    for word in sentence:\n",
    "        if(word in diccionario.keys()):\n",
    "            new_sntc += \" \" + diccionario[word] + \" \"\n",
    "        else:\n",
    "            new_sntc += word\n",
    "    return new_sntc\n",
    "\n",
    "print(reemplazarEmoji(\"Hoy estoy 😰\"))"
   ]
  },
  {
   "cell_type": "code",
   "execution_count": 4,
   "metadata": {},
   "outputs": [
    {
     "data": {
      "text/plain": [
       "'aei el niño esta en el avion'"
      ]
     },
     "execution_count": 4,
     "metadata": {},
     "output_type": "execute_result"
    }
   ],
   "source": [
    "def eliminarTildes(texto):\n",
    "    a, b = 'áéíóúüÁÉÍÓÚÜ', 'aeiouuAEIOUU'\n",
    "    trans = str.maketrans(a, b)                # maketrans  de python:crea un mapeo uno a uno de un personaje para su traducción\n",
    "                                                #utilizable para el método translate ()\n",
    "    return texto.translate(trans)              #transalate traduce funcion de python, devuelve una cadena donde cada carácter\n",
    "\n",
    "eliminarTildes(\"áéí el niño está en el avión\")"
   ]
  },
  {
   "cell_type": "code",
   "execution_count": 5,
   "metadata": {},
   "outputs": [
    {
     "name": "stdout",
     "output_type": "stream",
     "text": [
      "Yo Me Quedo En Casa 100 Días De Hambre Y Muerte\n"
     ]
    }
   ],
   "source": [
    "def descomponerHastag(texto):\n",
    "    \n",
    "    if(texto[0]!=\"#\"):\n",
    "        return texto\n",
    "    \n",
    "    else:\n",
    "        texto = texto[1:]\n",
    "        \n",
    "        if(texto == texto.upper()):           #COVID -> covid\n",
    "            return texto.lower()\n",
    "                                             \n",
    "        else:                                #HolaPeru -> \" Hola Peru\"\n",
    "\n",
    "            new_word = \"\"\n",
    "            for x in texto:\n",
    "                if( 65 <= ord(x) <= 90 ): # si es mayuscula     #ord, es el valor en sistema unicode.\n",
    "                    new_word += \" \" + x\n",
    "                else:\n",
    "                    new_word += x\n",
    "            return new_word.strip()       #strip es para elimina eliminar los espacios al inicio o al final\n",
    "        \n",
    "print(descomponerHastag(\"#YoMeQuedoEnCasa\"), descomponerHastag(\"#100DíasDeHambreYMuerte\"))"
   ]
  },
  {
   "cell_type": "code",
   "execution_count": 6,
   "metadata": {},
   "outputs": [],
   "source": [
    "# leer la lista de stopwords\n",
    "file = open(\"recursos/otros/stopwords.txt\",\"r\",encoding=\"utf-8\")\n",
    "stop_words = list(line[:-1] for line in file)\n",
    "file.close()"
   ]
  },
  {
   "cell_type": "code",
   "execution_count": 7,
   "metadata": {},
   "outputs": [],
   "source": [
    "# cambiar las tilder\n",
    "\n",
    "def limpiarTexto(texto):\n",
    "    \n",
    "    texto = re.sub('https://[./\\w]+', '', texto)               # eliminar urls\n",
    "    texto = reemplazarEmoji(texto)                             # reemplazar emojis\n",
    "    texto = eliminarTildes(texto)                              # reemplazar las tildes\n",
    "    lista = re.findall(\"[#@a-zA-Zñáéíóú]+\", texto)             # identificar palabras en español, nos quedamos solo con palabras español\n",
    "    lista = [ x for x in lista if x[0] != \"@\" ]                # eliminar los nombres de usuarios de twitter @Mario\n",
    "    lista = [ descomponerHastag(x) for x in lista ]            # descomponer los hashtags\n",
    "    texto = \" \".join(list(lista))                              # concatenar la lista\n",
    "    \n",
    "    lista = re.findall(\"[#@a-zA-Zñáéíóú]+\", texto)             # identificar palabras en español\n",
    "    lista = list(filter(lambda x: x not in stop_words, lista)) # eliminar stopwords  # porque eso vocabulario noe es importante para nustro analisis\n",
    "    lista = filter(lambda x: len(x) > 2, lista)                # eliminar rt, q, xq, ...str>2\n",
    "    texto = \" \".join(list(lista))                              # concatenar la lista \n",
    "    texto = texto.strip()                                      # eliminar espacios innecesarios\n",
    "    texto = texto.lower()                                      # todo a minusculas\n",
    "    \n",
    "    return texto"
   ]
  },
  {
   "cell_type": "code",
   "execution_count": null,
   "metadata": {},
   "outputs": [],
   "source": []
  },
  {
   "cell_type": "code",
   "execution_count": 10,
   "metadata": {},
   "outputs": [],
   "source": [
    "# leer la base de datos de tweets\n",
    "data = pd.read_csv(\"recursos/prediccion/bd_tweets.csv\")"
   ]
  },
  {
   "cell_type": "code",
   "execution_count": 11,
   "metadata": {},
   "outputs": [
    {
     "data": {
      "text/html": [
       "<div>\n",
       "<style scoped>\n",
       "    .dataframe tbody tr th:only-of-type {\n",
       "        vertical-align: middle;\n",
       "    }\n",
       "\n",
       "    .dataframe tbody tr th {\n",
       "        vertical-align: top;\n",
       "    }\n",
       "\n",
       "    .dataframe thead th {\n",
       "        text-align: right;\n",
       "    }\n",
       "</style>\n",
       "<table border=\"1\" class=\"dataframe\">\n",
       "  <thead>\n",
       "    <tr style=\"text-align: right;\">\n",
       "      <th></th>\n",
       "      <th>fecha</th>\n",
       "      <th>texto</th>\n",
       "    </tr>\n",
       "  </thead>\n",
       "  <tbody>\n",
       "    <tr>\n",
       "      <th>6340</th>\n",
       "      <td>2020-04-24 22:12:18</td>\n",
       "      <td>Presidente #Vizcarra por que el gas doméstico ...</td>\n",
       "    </tr>\n",
       "    <tr>\n",
       "      <th>3333</th>\n",
       "      <td>2020-03-19 22:13:01</td>\n",
       "      <td>ÚLTIMO MINUTO: @Minsa_Peru\\n confirma primera ...</td>\n",
       "    </tr>\n",
       "    <tr>\n",
       "      <th>8528</th>\n",
       "      <td>2020-04-11 13:54:11</td>\n",
       "      <td>Soy sólo yo, o todo estamos durmiendo muy mal ...</td>\n",
       "    </tr>\n",
       "    <tr>\n",
       "      <th>13656</th>\n",
       "      <td>2020-05-08 18:59:47</td>\n",
       "      <td>#Vizcarra Lunes 18: niños con acompañantes pod...</td>\n",
       "    </tr>\n",
       "    <tr>\n",
       "      <th>9690</th>\n",
       "      <td>2020-04-19 15:34:39</td>\n",
       "      <td>Este es el tipo de análisis que requerimos de ...</td>\n",
       "    </tr>\n",
       "  </tbody>\n",
       "</table>\n",
       "</div>"
      ],
      "text/plain": [
       "                     fecha                                              texto\n",
       "6340   2020-04-24 22:12:18  Presidente #Vizcarra por que el gas doméstico ...\n",
       "3333   2020-03-19 22:13:01  ÚLTIMO MINUTO: @Minsa_Peru\\n confirma primera ...\n",
       "8528   2020-04-11 13:54:11  Soy sólo yo, o todo estamos durmiendo muy mal ...\n",
       "13656  2020-05-08 18:59:47  #Vizcarra Lunes 18: niños con acompañantes pod...\n",
       "9690   2020-04-19 15:34:39  Este es el tipo de análisis que requerimos de ..."
      ]
     },
     "execution_count": 11,
     "metadata": {},
     "output_type": "execute_result"
    }
   ],
   "source": [
    "data.sample(5)"
   ]
  },
  {
   "cell_type": "code",
   "execution_count": 12,
   "metadata": {},
   "outputs": [
    {
     "name": "stdout",
     "output_type": "stream",
     "text": [
      "culpa vizcarra\n",
      "\n",
      "primero desobedecen ordenes simples salir fiesta asustan futuras medidas seguridad coronavirusperu\n",
      "\n",
      "fia ayuda paliar situacion muerte contagio coronavirusperu porque congreso ayuda situacion emergencia queden quietos despues pandemia interesa muertos contagiados\n",
      "\n",
      "peruanos cojudos peru ahorcado economicamente cuarentena infinita vizcarra ustedes mas pendientes ocurre estados unidos\n",
      "\n",
      "mujeresam esta gente entiende gobierno advierte los ambulantes aahh ate caso mano dura vizcarra quedate casa contagio cuarentena\n",
      "\n"
     ]
    }
   ],
   "source": [
    "# inspeccionar la limpieza\n",
    "res = data[\"texto\"].sample(5).apply(lambda x: limpiarTexto(x))\n",
    "\n",
    "for x in res: print(x + \"\\n\")"
   ]
  },
  {
   "cell_type": "code",
   "execution_count": 13,
   "metadata": {},
   "outputs": [],
   "source": [
    "# almacenar los tweets limpios\n",
    "data[\"texto_limpio\"] = data[\"texto\"].apply(lambda x: limpiarTexto(x))"
   ]
  },
  {
   "cell_type": "code",
   "execution_count": 14,
   "metadata": {},
   "outputs": [
    {
     "data": {
      "text/html": [
       "<div>\n",
       "<style scoped>\n",
       "    .dataframe tbody tr th:only-of-type {\n",
       "        vertical-align: middle;\n",
       "    }\n",
       "\n",
       "    .dataframe tbody tr th {\n",
       "        vertical-align: top;\n",
       "    }\n",
       "\n",
       "    .dataframe thead th {\n",
       "        text-align: right;\n",
       "    }\n",
       "</style>\n",
       "<table border=\"1\" class=\"dataframe\">\n",
       "  <thead>\n",
       "    <tr style=\"text-align: right;\">\n",
       "      <th></th>\n",
       "      <th>fecha</th>\n",
       "      <th>texto</th>\n",
       "      <th>texto_limpio</th>\n",
       "    </tr>\n",
       "  </thead>\n",
       "  <tbody>\n",
       "    <tr>\n",
       "      <th>16090</th>\n",
       "      <td>2020-06-29 02:33:23</td>\n",
       "      <td>[Video] #PanamericanaNoticias #Panorama Contra...</td>\n",
       "      <td>video panamericana noticias panorama contratac...</td>\n",
       "    </tr>\n",
       "    <tr>\n",
       "      <th>8085</th>\n",
       "      <td>2020-04-20 18:29:24</td>\n",
       "      <td>Qué bien!!! Presidente #vizcarra anuncia que l...</td>\n",
       "      <td>que presidente vizcarra anuncia colegios parti...</td>\n",
       "    </tr>\n",
       "    <tr>\n",
       "      <th>5483</th>\n",
       "      <td>2020-03-07 12:14:44</td>\n",
       "      <td>A todos los borrachos, ya saben a usar sorbete...</td>\n",
       "      <td>borrachos sorbete coronavirusperu</td>\n",
       "    </tr>\n",
       "    <tr>\n",
       "      <th>9143</th>\n",
       "      <td>2020-04-07 20:13:29</td>\n",
       "      <td>Coronavirus | Qué es la \"doble curva\" y por qu...</td>\n",
       "      <td>coronavirus que doble curva falso dilema elegi...</td>\n",
       "    </tr>\n",
       "    <tr>\n",
       "      <th>18199</th>\n",
       "      <td>2020-06-25 12:06:34</td>\n",
       "      <td>#Día398 para el cambio de presidente. \\n\\nIncr...</td>\n",
       "      <td>dia cambio presidente increible donaciones usa...</td>\n",
       "    </tr>\n",
       "  </tbody>\n",
       "</table>\n",
       "</div>"
      ],
      "text/plain": [
       "                     fecha                                              texto  \\\n",
       "16090  2020-06-29 02:33:23  [Video] #PanamericanaNoticias #Panorama Contra...   \n",
       "8085   2020-04-20 18:29:24  Qué bien!!! Presidente #vizcarra anuncia que l...   \n",
       "5483   2020-03-07 12:14:44  A todos los borrachos, ya saben a usar sorbete...   \n",
       "9143   2020-04-07 20:13:29  Coronavirus | Qué es la \"doble curva\" y por qu...   \n",
       "18199  2020-06-25 12:06:34  #Día398 para el cambio de presidente. \\n\\nIncr...   \n",
       "\n",
       "                                            texto_limpio  \n",
       "16090  video panamericana noticias panorama contratac...  \n",
       "8085   que presidente vizcarra anuncia colegios parti...  \n",
       "5483                   borrachos sorbete coronavirusperu  \n",
       "9143   coronavirus que doble curva falso dilema elegi...  \n",
       "18199  dia cambio presidente increible donaciones usa...  "
      ]
     },
     "execution_count": 14,
     "metadata": {},
     "output_type": "execute_result"
    }
   ],
   "source": [
    "data.sample(5)"
   ]
  },
  {
   "cell_type": "code",
   "execution_count": 15,
   "metadata": {},
   "outputs": [],
   "source": [
    "# Guardar los tweets limpios en un archivo csv\n",
    "np.savetxt(\"recursos/prediccion/bd_tweets_limpios.csv\",\n",
    "           data[\"texto_limpio\"].values,\n",
    "           header = \"texto_limpio\",\n",
    "           fmt=\"%s\", \n",
    "           encoding=\"utf-8\")"
   ]
  },
  {
   "cell_type": "code",
   "execution_count": null,
   "metadata": {},
   "outputs": [],
   "source": []
  },
  {
   "cell_type": "code",
   "execution_count": null,
   "metadata": {},
   "outputs": [],
   "source": []
  },
  {
   "cell_type": "code",
   "execution_count": 16,
   "metadata": {},
   "outputs": [],
   "source": [
    "# leer la base de datos de comentarios del banco\n",
    "data_bcp = pd.read_csv(\"recursos/entrenamiento/comentarios.csv\")"
   ]
  },
  {
   "cell_type": "code",
   "execution_count": 17,
   "metadata": {},
   "outputs": [
    {
     "data": {
      "text/html": [
       "<div>\n",
       "<style scoped>\n",
       "    .dataframe tbody tr th:only-of-type {\n",
       "        vertical-align: middle;\n",
       "    }\n",
       "\n",
       "    .dataframe tbody tr th {\n",
       "        vertical-align: top;\n",
       "    }\n",
       "\n",
       "    .dataframe thead th {\n",
       "        text-align: right;\n",
       "    }\n",
       "</style>\n",
       "<table border=\"1\" class=\"dataframe\">\n",
       "  <thead>\n",
       "    <tr style=\"text-align: right;\">\n",
       "      <th></th>\n",
       "      <th>score</th>\n",
       "      <th>comment</th>\n",
       "    </tr>\n",
       "  </thead>\n",
       "  <tbody>\n",
       "    <tr>\n",
       "      <th>7314</th>\n",
       "      <td>3</td>\n",
       "      <td>un poco mas de orden en la agencia</td>\n",
       "    </tr>\n",
       "    <tr>\n",
       "      <th>4478</th>\n",
       "      <td>4</td>\n",
       "      <td>cuando fui no habia mucha gente realice mi ope...</td>\n",
       "    </tr>\n",
       "    <tr>\n",
       "      <th>1336</th>\n",
       "      <td>5</td>\n",
       "      <td>por la rapidez en la atencion</td>\n",
       "    </tr>\n",
       "    <tr>\n",
       "      <th>7788</th>\n",
       "      <td>3</td>\n",
       "      <td>mejor asesoramiento en cuanto a sus intrumento...</td>\n",
       "    </tr>\n",
       "    <tr>\n",
       "      <th>336</th>\n",
       "      <td>5</td>\n",
       "      <td>atencion rapida y adecuada</td>\n",
       "    </tr>\n",
       "  </tbody>\n",
       "</table>\n",
       "</div>"
      ],
      "text/plain": [
       "      score                                            comment\n",
       "7314      3                 un poco mas de orden en la agencia\n",
       "4478      4  cuando fui no habia mucha gente realice mi ope...\n",
       "1336      5                      por la rapidez en la atencion\n",
       "7788      3  mejor asesoramiento en cuanto a sus intrumento...\n",
       "336       5                         atencion rapida y adecuada"
      ]
     },
     "execution_count": 17,
     "metadata": {},
     "output_type": "execute_result"
    }
   ],
   "source": [
    "data_bcp.sample(5)"
   ]
  },
  {
   "cell_type": "code",
   "execution_count": 18,
   "metadata": {},
   "outputs": [],
   "source": [
    "# guardar los comentarios limpios\n",
    "data_bcp[\"texto_limpio\"] = data_bcp[\"comment\"].apply(lambda x: limpiarTexto(x))"
   ]
  },
  {
   "cell_type": "code",
   "execution_count": 19,
   "metadata": {},
   "outputs": [
    {
     "data": {
      "text/html": [
       "<div>\n",
       "<style scoped>\n",
       "    .dataframe tbody tr th:only-of-type {\n",
       "        vertical-align: middle;\n",
       "    }\n",
       "\n",
       "    .dataframe tbody tr th {\n",
       "        vertical-align: top;\n",
       "    }\n",
       "\n",
       "    .dataframe thead th {\n",
       "        text-align: right;\n",
       "    }\n",
       "</style>\n",
       "<table border=\"1\" class=\"dataframe\">\n",
       "  <thead>\n",
       "    <tr style=\"text-align: right;\">\n",
       "      <th></th>\n",
       "      <th>score</th>\n",
       "      <th>comment</th>\n",
       "      <th>texto_limpio</th>\n",
       "    </tr>\n",
       "  </thead>\n",
       "  <tbody>\n",
       "    <tr>\n",
       "      <th>12031</th>\n",
       "      <td>3</td>\n",
       "      <td>trato mas personalizado no apurados</td>\n",
       "      <td>trato mas personalizado apurados</td>\n",
       "    </tr>\n",
       "    <tr>\n",
       "      <th>7249</th>\n",
       "      <td>2</td>\n",
       "      <td>solo habian  personas atendiendo y eramos bast...</td>\n",
       "      <td>habian personas atendiendo bastantes personas ...</td>\n",
       "    </tr>\n",
       "    <tr>\n",
       "      <th>9928</th>\n",
       "      <td>3</td>\n",
       "      <td>aperturar mas ventanillas para la atencion a l...</td>\n",
       "      <td>aperturar mas ventanillas atencion visitantes</td>\n",
       "    </tr>\n",
       "    <tr>\n",
       "      <th>10508</th>\n",
       "      <td>3</td>\n",
       "      <td>mejorar el tiempo para la atencion</td>\n",
       "      <td>mejorar atencion</td>\n",
       "    </tr>\n",
       "    <tr>\n",
       "      <th>2730</th>\n",
       "      <td>5</td>\n",
       "      <td>me atendieron eficazmente</td>\n",
       "      <td>atendieron eficazmente</td>\n",
       "    </tr>\n",
       "  </tbody>\n",
       "</table>\n",
       "</div>"
      ],
      "text/plain": [
       "       score                                            comment  \\\n",
       "12031      3                trato mas personalizado no apurados   \n",
       "7249       2  solo habian  personas atendiendo y eramos bast...   \n",
       "9928       3  aperturar mas ventanillas para la atencion a l...   \n",
       "10508      3                 mejorar el tiempo para la atencion   \n",
       "2730       5                          me atendieron eficazmente   \n",
       "\n",
       "                                            texto_limpio  \n",
       "12031                   trato mas personalizado apurados  \n",
       "7249   habian personas atendiendo bastantes personas ...  \n",
       "9928       aperturar mas ventanillas atencion visitantes  \n",
       "10508                                   mejorar atencion  \n",
       "2730                              atendieron eficazmente  "
      ]
     },
     "execution_count": 19,
     "metadata": {},
     "output_type": "execute_result"
    }
   ],
   "source": [
    "data_bcp.sample(5)"
   ]
  },
  {
   "cell_type": "code",
   "execution_count": 20,
   "metadata": {},
   "outputs": [],
   "source": [
    "# Guardar los comentarios limpios en un archivo csv\n",
    "np.savetxt(\"recursos/entrenamiento/comentarios_limpios.csv\",\n",
    "           data_bcp[\"texto_limpio\"].values,\n",
    "           header = \"texto_limpio\",\n",
    "           fmt=\"%s\", \n",
    "           encoding=\"utf-8\")"
   ]
  },
  {
   "cell_type": "code",
   "execution_count": null,
   "metadata": {},
   "outputs": [],
   "source": []
  }
 ],
 "metadata": {
  "kernelspec": {
   "display_name": "Python 3 (ipykernel)",
   "language": "python",
   "name": "python3"
  },
  "language_info": {
   "codemirror_mode": {
    "name": "ipython",
    "version": 3
   },
   "file_extension": ".py",
   "mimetype": "text/x-python",
   "name": "python",
   "nbconvert_exporter": "python",
   "pygments_lexer": "ipython3",
   "version": "3.7.4"
  }
 },
 "nbformat": 4,
 "nbformat_minor": 4
}
