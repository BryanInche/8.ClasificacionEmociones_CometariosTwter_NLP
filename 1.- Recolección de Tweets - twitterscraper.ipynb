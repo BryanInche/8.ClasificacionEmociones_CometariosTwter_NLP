{
 "cells": [
  {
   "cell_type": "code",
   "execution_count": 5,
   "metadata": {},
   "outputs": [],
   "source": [
    "#!pip install twitterscraper"
   ]
  },
  {
   "cell_type": "code",
   "execution_count": 3,
   "metadata": {},
   "outputs": [
    {
     "name": "stderr",
     "output_type": "stream",
     "text": [
      "INFO: {'User-Agent': 'Mozilla/5.0 (Windows; U; Windows NT 6.1; rv:2.2) Gecko/20110201'}\n"
     ]
    }
   ],
   "source": [
    "from twitterscraper import query_tweets\n",
    "import datetime as dt\n",
    "import pandas as pd\n",
    "import seaborn as sns"
   ]
  },
  {
   "cell_type": "code",
   "execution_count": 4,
   "metadata": {},
   "outputs": [],
   "source": [
    "# Use seaborn style defaults and set the default figure size\n",
    "sns.set(rc={'figure.figsize':(11, 4)})"
   ]
  },
  {
   "cell_type": "code",
   "execution_count": 4,
   "metadata": {},
   "outputs": [],
   "source": [
    "# argumentos de las queries\n",
    "query_params = [\n",
    "               {\"mes\": \"marzo\", \"begin_date\": dt.date(2020, 3, 1), \"end_date\": dt.date(2020, 3, 31)},\n",
    "               {\"mes\": \"abril\", \"begin_date\": dt.date(2020, 4, 1), \"end_date\": dt.date(2020, 4, 30)},\n",
    "               {\"mes\": \"mayo\",  \"begin_date\": dt.date(2020, 5, 1), \"end_date\": dt.date(2020, 5, 31)},\n",
    "               {\"mes\": \"junio\", \"begin_date\": dt.date(2020, 6, 1), \"end_date\": dt.date(2020, 6, 30)}\n",
    "]"
   ]
  },
  {
   "cell_type": "code",
   "execution_count": 5,
   "metadata": {},
   "outputs": [
    {
     "name": "stderr",
     "output_type": "stream",
     "text": [
      "INFO: queries: ['#vizcarra OR #coronavirusPeru since:2020-03-01 until:2020-03-02', '#vizcarra OR #coronavirusPeru since:2020-03-02 until:2020-03-03', '#vizcarra OR #coronavirusPeru since:2020-03-03 until:2020-03-04', '#vizcarra OR #coronavirusPeru since:2020-03-04 until:2020-03-05', '#vizcarra OR #coronavirusPeru since:2020-03-05 until:2020-03-06', '#vizcarra OR #coronavirusPeru since:2020-03-06 until:2020-03-07', '#vizcarra OR #coronavirusPeru since:2020-03-07 until:2020-03-08', '#vizcarra OR #coronavirusPeru since:2020-03-08 until:2020-03-09', '#vizcarra OR #coronavirusPeru since:2020-03-09 until:2020-03-10', '#vizcarra OR #coronavirusPeru since:2020-03-10 until:2020-03-11', '#vizcarra OR #coronavirusPeru since:2020-03-11 until:2020-03-12', '#vizcarra OR #coronavirusPeru since:2020-03-12 until:2020-03-13', '#vizcarra OR #coronavirusPeru since:2020-03-13 until:2020-03-14', '#vizcarra OR #coronavirusPeru since:2020-03-14 until:2020-03-15', '#vizcarra OR #coronavirusPeru since:2020-03-15 until:2020-03-16', '#vizcarra OR #coronavirusPeru since:2020-03-16 until:2020-03-17', '#vizcarra OR #coronavirusPeru since:2020-03-17 until:2020-03-18', '#vizcarra OR #coronavirusPeru since:2020-03-18 until:2020-03-19', '#vizcarra OR #coronavirusPeru since:2020-03-19 until:2020-03-20', '#vizcarra OR #coronavirusPeru since:2020-03-20 until:2020-03-21', '#vizcarra OR #coronavirusPeru since:2020-03-21 until:2020-03-22', '#vizcarra OR #coronavirusPeru since:2020-03-22 until:2020-03-23', '#vizcarra OR #coronavirusPeru since:2020-03-23 until:2020-03-24', '#vizcarra OR #coronavirusPeru since:2020-03-24 until:2020-03-25', '#vizcarra OR #coronavirusPeru since:2020-03-25 until:2020-03-26', '#vizcarra OR #coronavirusPeru since:2020-03-26 until:2020-03-27', '#vizcarra OR #coronavirusPeru since:2020-03-27 until:2020-03-28', '#vizcarra OR #coronavirusPeru since:2020-03-28 until:2020-03-29', '#vizcarra OR #coronavirusPeru since:2020-03-29 until:2020-03-30', '#vizcarra OR #coronavirusPeru since:2020-03-30 until:2020-03-31']\n",
      "INFO: Got 39 tweets (39 new).\n",
      "INFO: Got 93 tweets (54 new).\n",
      "INFO: Got 158 tweets (65 new).\n",
      "INFO: Got 225 tweets (67 new).\n",
      "INFO: Got 292 tweets (67 new).\n",
      "INFO: Got 481 tweets (189 new).\n",
      "INFO: Got 662 tweets (181 new).\n",
      "INFO: Got 864 tweets (202 new).\n",
      "INFO: Got 1214 tweets (350 new).\n",
      "INFO: Got 1566 tweets (352 new).\n",
      "INFO: Got 1872 tweets (306 new).\n",
      "INFO: Got 2212 tweets (340 new).\n",
      "INFO: Got 2547 tweets (335 new).\n",
      "INFO: Got 2892 tweets (345 new).\n",
      "INFO: Got 3240 tweets (348 new).\n",
      "INFO: Got 3587 tweets (347 new).\n",
      "INFO: Got 3924 tweets (337 new).\n",
      "INFO: Got 4260 tweets (336 new).\n",
      "INFO: Got 4603 tweets (343 new).\n",
      "INFO: Got 4942 tweets (339 new).\n",
      "INFO: Got 5291 tweets (349 new).\n",
      "INFO: Got 5644 tweets (353 new).\n",
      "INFO: Got 5996 tweets (352 new).\n",
      "INFO: Got 6336 tweets (340 new).\n",
      "INFO: Got 6679 tweets (343 new).\n",
      "INFO: Got 7016 tweets (337 new).\n",
      "INFO: Got 7286 tweets (270 new).\n",
      "INFO: Got 7626 tweets (340 new).\n",
      "INFO: Got 7978 tweets (352 new).\n",
      "INFO: Got 8322 tweets (344 new).\n",
      "INFO: queries: ['#vizcarra OR #coronavirusPeru since:2020-04-01 until:2020-04-02', '#vizcarra OR #coronavirusPeru since:2020-04-02 until:2020-04-03', '#vizcarra OR #coronavirusPeru since:2020-04-03 until:2020-04-04', '#vizcarra OR #coronavirusPeru since:2020-04-04 until:2020-04-05', '#vizcarra OR #coronavirusPeru since:2020-04-05 until:2020-04-06', '#vizcarra OR #coronavirusPeru since:2020-04-06 until:2020-04-07', '#vizcarra OR #coronavirusPeru since:2020-04-07 until:2020-04-08', '#vizcarra OR #coronavirusPeru since:2020-04-08 until:2020-04-09', '#vizcarra OR #coronavirusPeru since:2020-04-09 until:2020-04-10', '#vizcarra OR #coronavirusPeru since:2020-04-10 until:2020-04-11', '#vizcarra OR #coronavirusPeru since:2020-04-11 until:2020-04-12', '#vizcarra OR #coronavirusPeru since:2020-04-12 until:2020-04-13', '#vizcarra OR #coronavirusPeru since:2020-04-13 until:2020-04-14', '#vizcarra OR #coronavirusPeru since:2020-04-14 until:2020-04-15', '#vizcarra OR #coronavirusPeru since:2020-04-15 until:2020-04-16', '#vizcarra OR #coronavirusPeru since:2020-04-16 until:2020-04-17', '#vizcarra OR #coronavirusPeru since:2020-04-17 until:2020-04-18', '#vizcarra OR #coronavirusPeru since:2020-04-18 until:2020-04-19', '#vizcarra OR #coronavirusPeru since:2020-04-19 until:2020-04-20', '#vizcarra OR #coronavirusPeru since:2020-04-20 until:2020-04-21', '#vizcarra OR #coronavirusPeru since:2020-04-21 until:2020-04-22', '#vizcarra OR #coronavirusPeru since:2020-04-22 until:2020-04-23', '#vizcarra OR #coronavirusPeru since:2020-04-23 until:2020-04-24', '#vizcarra OR #coronavirusPeru since:2020-04-24 until:2020-04-25', '#vizcarra OR #coronavirusPeru since:2020-04-25 until:2020-04-26', '#vizcarra OR #coronavirusPeru since:2020-04-26 until:2020-04-27', '#vizcarra OR #coronavirusPeru since:2020-04-27 until:2020-04-28', '#vizcarra OR #coronavirusPeru since:2020-04-28 until:2020-04-29', '#vizcarra OR #coronavirusPeru since:2020-04-29 until:2020-04-30']\n",
      "INFO: Got 217 tweets (217 new).\n",
      "INFO: Got 463 tweets (246 new).\n",
      "INFO: Got 625 tweets (162 new).\n",
      "INFO: Got 876 tweets (251 new).\n",
      "INFO: Got 1120 tweets (244 new).\n",
      "INFO: Got 1353 tweets (233 new).\n",
      "INFO: Got 1511 tweets (158 new).\n",
      "INFO: Got 1748 tweets (237 new).\n",
      "INFO: Got 2017 tweets (269 new).\n",
      "INFO: Got 2196 tweets (179 new).\n",
      "INFO: Got 2460 tweets (264 new).\n",
      "INFO: Got 2680 tweets (220 new).\n",
      "INFO: Got 2925 tweets (245 new).\n",
      "INFO: Got 3113 tweets (188 new).\n",
      "INFO: Got 3303 tweets (190 new).\n",
      "INFO: Got 3599 tweets (296 new).\n",
      "INFO: Got 3776 tweets (177 new).\n",
      "INFO: Got 3896 tweets (120 new).\n",
      "INFO: Got 4033 tweets (137 new).\n",
      "INFO: Got 4146 tweets (113 new).\n",
      "INFO: Got 4268 tweets (122 new).\n",
      "INFO: Got 4389 tweets (121 new).\n",
      "INFO: Got 4511 tweets (122 new).\n",
      "INFO: Got 4638 tweets (127 new).\n",
      "INFO: Got 4780 tweets (142 new).\n",
      "INFO: Got 4921 tweets (141 new).\n",
      "INFO: Got 5057 tweets (136 new).\n",
      "INFO: Got 5214 tweets (157 new).\n",
      "INFO: Got 5234 tweets (20 new).\n",
      "INFO: queries: ['#vizcarra OR #coronavirusPeru since:2020-05-01 until:2020-05-02', '#vizcarra OR #coronavirusPeru since:2020-05-02 until:2020-05-03', '#vizcarra OR #coronavirusPeru since:2020-05-03 until:2020-05-04', '#vizcarra OR #coronavirusPeru since:2020-05-04 until:2020-05-05', '#vizcarra OR #coronavirusPeru since:2020-05-05 until:2020-05-06', '#vizcarra OR #coronavirusPeru since:2020-05-06 until:2020-05-07', '#vizcarra OR #coronavirusPeru since:2020-05-07 until:2020-05-08', '#vizcarra OR #coronavirusPeru since:2020-05-08 until:2020-05-09', '#vizcarra OR #coronavirusPeru since:2020-05-09 until:2020-05-10', '#vizcarra OR #coronavirusPeru since:2020-05-10 until:2020-05-11', '#vizcarra OR #coronavirusPeru since:2020-05-11 until:2020-05-12', '#vizcarra OR #coronavirusPeru since:2020-05-12 until:2020-05-13', '#vizcarra OR #coronavirusPeru since:2020-05-13 until:2020-05-14', '#vizcarra OR #coronavirusPeru since:2020-05-14 until:2020-05-15', '#vizcarra OR #coronavirusPeru since:2020-05-15 until:2020-05-16', '#vizcarra OR #coronavirusPeru since:2020-05-16 until:2020-05-17', '#vizcarra OR #coronavirusPeru since:2020-05-17 until:2020-05-18', '#vizcarra OR #coronavirusPeru since:2020-05-18 until:2020-05-19', '#vizcarra OR #coronavirusPeru since:2020-05-19 until:2020-05-20', '#vizcarra OR #coronavirusPeru since:2020-05-20 until:2020-05-21', '#vizcarra OR #coronavirusPeru since:2020-05-21 until:2020-05-22', '#vizcarra OR #coronavirusPeru since:2020-05-22 until:2020-05-23', '#vizcarra OR #coronavirusPeru since:2020-05-23 until:2020-05-24', '#vizcarra OR #coronavirusPeru since:2020-05-24 until:2020-05-25', '#vizcarra OR #coronavirusPeru since:2020-05-25 until:2020-05-26', '#vizcarra OR #coronavirusPeru since:2020-05-26 until:2020-05-27', '#vizcarra OR #coronavirusPeru since:2020-05-27 until:2020-05-28', '#vizcarra OR #coronavirusPeru since:2020-05-28 until:2020-05-29', '#vizcarra OR #coronavirusPeru since:2020-05-29 until:2020-05-30', '#vizcarra OR #coronavirusPeru since:2020-05-30 until:2020-05-31']\n",
      "INFO: Got 19 tweets (19 new).\n",
      "INFO: Got 38 tweets (19 new).\n",
      "INFO: Got 53 tweets (15 new).\n",
      "INFO: Got 70 tweets (17 new).\n",
      "INFO: Got 90 tweets (20 new).\n",
      "INFO: Got 104 tweets (14 new).\n",
      "INFO: Got 121 tweets (17 new).\n",
      "INFO: Got 136 tweets (15 new).\n",
      "INFO: Got 153 tweets (17 new).\n"
     ]
    },
    {
     "name": "stderr",
     "output_type": "stream",
     "text": [
      "INFO: Got 169 tweets (16 new).\n",
      "INFO: Got 186 tweets (17 new).\n",
      "INFO: Got 203 tweets (17 new).\n",
      "INFO: Got 219 tweets (16 new).\n",
      "INFO: Got 237 tweets (18 new).\n",
      "INFO: Got 255 tweets (18 new).\n",
      "INFO: Got 270 tweets (15 new).\n",
      "INFO: Got 290 tweets (20 new).\n",
      "INFO: Got 304 tweets (14 new).\n",
      "INFO: Got 321 tweets (17 new).\n",
      "INFO: Got 339 tweets (18 new).\n",
      "INFO: Got 356 tweets (17 new).\n",
      "INFO: Got 372 tweets (16 new).\n",
      "INFO: Got 387 tweets (15 new).\n",
      "INFO: Got 404 tweets (17 new).\n",
      "INFO: Got 422 tweets (18 new).\n",
      "INFO: Got 437 tweets (15 new).\n",
      "INFO: Got 454 tweets (17 new).\n",
      "INFO: Got 470 tweets (16 new).\n",
      "INFO: Got 488 tweets (18 new).\n",
      "INFO: Got 508 tweets (20 new).\n",
      "INFO: queries: ['#vizcarra OR #coronavirusPeru since:2020-06-01 until:2020-06-02', '#vizcarra OR #coronavirusPeru since:2020-06-02 until:2020-06-03', '#vizcarra OR #coronavirusPeru since:2020-06-03 until:2020-06-04', '#vizcarra OR #coronavirusPeru since:2020-06-04 until:2020-06-05', '#vizcarra OR #coronavirusPeru since:2020-06-05 until:2020-06-06', '#vizcarra OR #coronavirusPeru since:2020-06-06 until:2020-06-07', '#vizcarra OR #coronavirusPeru since:2020-06-07 until:2020-06-08', '#vizcarra OR #coronavirusPeru since:2020-06-08 until:2020-06-09', '#vizcarra OR #coronavirusPeru since:2020-06-09 until:2020-06-10', '#vizcarra OR #coronavirusPeru since:2020-06-10 until:2020-06-11', '#vizcarra OR #coronavirusPeru since:2020-06-11 until:2020-06-12', '#vizcarra OR #coronavirusPeru since:2020-06-12 until:2020-06-13', '#vizcarra OR #coronavirusPeru since:2020-06-13 until:2020-06-14', '#vizcarra OR #coronavirusPeru since:2020-06-14 until:2020-06-15', '#vizcarra OR #coronavirusPeru since:2020-06-15 until:2020-06-16', '#vizcarra OR #coronavirusPeru since:2020-06-16 until:2020-06-17', '#vizcarra OR #coronavirusPeru since:2020-06-17 until:2020-06-18', '#vizcarra OR #coronavirusPeru since:2020-06-18 until:2020-06-19', '#vizcarra OR #coronavirusPeru since:2020-06-19 until:2020-06-20', '#vizcarra OR #coronavirusPeru since:2020-06-20 until:2020-06-21', '#vizcarra OR #coronavirusPeru since:2020-06-21 until:2020-06-22', '#vizcarra OR #coronavirusPeru since:2020-06-22 until:2020-06-23', '#vizcarra OR #coronavirusPeru since:2020-06-23 until:2020-06-24', '#vizcarra OR #coronavirusPeru since:2020-06-24 until:2020-06-25', '#vizcarra OR #coronavirusPeru since:2020-06-25 until:2020-06-26', '#vizcarra OR #coronavirusPeru since:2020-06-26 until:2020-06-27', '#vizcarra OR #coronavirusPeru since:2020-06-27 until:2020-06-28', '#vizcarra OR #coronavirusPeru since:2020-06-28 until:2020-06-29', '#vizcarra OR #coronavirusPeru since:2020-06-29 until:2020-06-30']\n",
      "INFO: Got 12 tweets (12 new).\n",
      "INFO: Got 24 tweets (12 new).\n",
      "INFO: Got 42 tweets (18 new).\n",
      "INFO: Got 60 tweets (18 new).\n",
      "INFO: Got 78 tweets (18 new).\n",
      "INFO: Got 92 tweets (14 new).\n",
      "INFO: Got 109 tweets (17 new).\n",
      "INFO: Got 124 tweets (15 new).\n",
      "INFO: Got 139 tweets (15 new).\n",
      "INFO: Got 154 tweets (15 new).\n",
      "INFO: Got 172 tweets (18 new).\n",
      "INFO: Got 189 tweets (17 new).\n",
      "INFO: Got 205 tweets (16 new).\n",
      "INFO: Got 217 tweets (12 new).\n",
      "INFO: Got 229 tweets (12 new).\n",
      "INFO: Got 246 tweets (17 new).\n",
      "INFO: Got 260 tweets (14 new).\n",
      "INFO: Got 277 tweets (17 new).\n",
      "INFO: Got 294 tweets (17 new).\n",
      "INFO: Got 308 tweets (14 new).\n",
      "INFO: Got 323 tweets (15 new).\n",
      "INFO: Got 337 tweets (14 new).\n",
      "INFO: Got 355 tweets (18 new).\n",
      "INFO: Got 371 tweets (16 new).\n",
      "INFO: Got 388 tweets (17 new).\n",
      "INFO: Got 404 tweets (16 new).\n",
      "INFO: Got 420 tweets (16 new).\n",
      "INFO: Got 433 tweets (13 new).\n",
      "INFO: Got 446 tweets (13 new).\n"
     ]
    }
   ],
   "source": [
    "# página twitterscraper\n",
    "# https://github.com/taspinar/twitterscraper\n",
    "\n",
    "for args in query_params:\n",
    "\n",
    "    # crear la query\n",
    "    begin_date = args[\"begin_date\"]   # fecha de inicio\n",
    "    end_date = args[\"end_date\"]       # fecha de fin\n",
    "    limit = 10000                     # limite de tweets\n",
    "    lang = \"es\"                       # lenguage\n",
    "    poolsize = 100                     # para que te devuelva en streeming(de 100 en 100 envia)\n",
    "    \n",
    "    # realizar la query\n",
    "    tweets = query_tweets(\"#vizcarra OR #coronavirusPeru\", # hastags a buscar\n",
    "                      begindate=begin_date, \n",
    "                      enddate=end_date, \n",
    "                      limit=limit, \n",
    "                      lang=lang,\n",
    "                      poolsize=poolsize)\n",
    "    \n",
    "    # almacenar los tweets en un data frame\n",
    "    df = pd.DataFrame(x.__dict__ for x in tweets)   #  __dict__ (te devuelve una lista de diccionario, donde a cada variable le asigna el valor observasdo)\n",
    "    \n",
    "    # guardar el los tweets en un archivo csv\n",
    "    df.to_csv('recursos/tweets_data/df_tweets_' + args[\"mes\"] + '.csv', \n",
    "                index=False, \n",
    "                encoding=\"utf-8\")"
   ]
  },
  {
   "cell_type": "code",
   "execution_count": null,
   "metadata": {},
   "outputs": [],
   "source": []
  },
  {
   "cell_type": "code",
   "execution_count": 3,
   "metadata": {},
   "outputs": [],
   "source": [
    "def unirDataFrames(lista):\n",
    "    \n",
    "    # lista de dataframes          # que dataframes se unen los bloques de tuits que hemos rescatado\n",
    "    dataframes = []\n",
    "    \n",
    "    for file in lista:\n",
    "\n",
    "        # leer el dataframe\n",
    "        temp_df = pd.read_csv(file)\n",
    "        \n",
    "        # cambiar el formato de la fecha\n",
    "        temp_df[\"timestamp\"] = pd.to_datetime(temp_df[\"timestamp\"])  # cambiar el formato de fecha\n",
    "        \n",
    "        # agregar el nuevo dataframe a la lista\n",
    "        dataframes.append(temp_df)\n",
    "    \n",
    "    # unir verticalmente los dataframes\n",
    "    final_df = pd.concat(dataframes) \n",
    "    \n",
    "    return final_df"
   ]
  },
  {
   "cell_type": "code",
   "execution_count": 18,
   "metadata": {},
   "outputs": [],
   "source": [
    "# archivos csv que contienen los tweets\n",
    "archivos_meses = [\n",
    "                   'recursos/tweets_data/df_tweets_marzo.csv',\n",
    "                   'recursos/tweets_data/df_tweets_abril.csv',\n",
    "                   'recursos/tweets_data/df_mayo.csv',\n",
    "                   'recursos/tweets_data/df_junio.csv'\n",
    "                  ]"
   ]
  },
  {
   "cell_type": "code",
   "execution_count": 19,
   "metadata": {},
   "outputs": [],
   "source": [
    "# agrupar los tweets en un solo dataframe\n",
    "data = unirDataFrames(archivos_meses)"
   ]
  },
  {
   "cell_type": "code",
   "execution_count": 20,
   "metadata": {},
   "outputs": [
    {
     "name": "stdout",
     "output_type": "stream",
     "text": [
      "<class 'pandas.core.frame.DataFrame'>\n",
      "Int64Index: 24110 entries, 0 to 4072\n",
      "Data columns (total 21 columns):\n",
      " #   Column            Non-Null Count  Dtype         \n",
      "---  ------            --------------  -----         \n",
      " 0   screen_name       24110 non-null  object        \n",
      " 1   username          24110 non-null  object        \n",
      " 2   user_id           24110 non-null  int64         \n",
      " 3   tweet_id          24110 non-null  int64         \n",
      " 4   tweet_url         24110 non-null  object        \n",
      " 5   timestamp         24110 non-null  datetime64[ns]\n",
      " 6   timestamp_epochs  24110 non-null  int64         \n",
      " 7   text              24110 non-null  object        \n",
      " 8   text_html         24110 non-null  object        \n",
      " 9   links             24110 non-null  object        \n",
      " 10  hashtags          24110 non-null  object        \n",
      " 11  has_media         24110 non-null  bool          \n",
      " 12  img_urls          24110 non-null  object        \n",
      " 13  video_url         0 non-null      float64       \n",
      " 14  likes             24110 non-null  int64         \n",
      " 15  retweets          24110 non-null  int64         \n",
      " 16  replies           24110 non-null  int64         \n",
      " 17  is_replied        24110 non-null  bool          \n",
      " 18  is_reply_to       24110 non-null  bool          \n",
      " 19  parent_tweet_id   4878 non-null   float64       \n",
      " 20  reply_to_users    24110 non-null  object        \n",
      "dtypes: bool(3), datetime64[ns](1), float64(2), int64(6), object(9)\n",
      "memory usage: 3.6+ MB\n"
     ]
    }
   ],
   "source": [
    "data.info()"
   ]
  },
  {
   "cell_type": "code",
   "execution_count": 21,
   "metadata": {},
   "outputs": [
    {
     "name": "stdout",
     "output_type": "stream",
     "text": [
      "<class 'pandas.core.frame.DataFrame'>\n",
      "Int64Index: 18352 entries, 0 to 4071\n",
      "Data columns (total 21 columns):\n",
      " #   Column            Non-Null Count  Dtype         \n",
      "---  ------            --------------  -----         \n",
      " 0   screen_name       18352 non-null  object        \n",
      " 1   username          18352 non-null  object        \n",
      " 2   user_id           18352 non-null  int64         \n",
      " 3   tweet_id          18352 non-null  int64         \n",
      " 4   tweet_url         18352 non-null  object        \n",
      " 5   timestamp         18352 non-null  datetime64[ns]\n",
      " 6   timestamp_epochs  18352 non-null  int64         \n",
      " 7   text              18352 non-null  object        \n",
      " 8   text_html         18352 non-null  object        \n",
      " 9   links             18352 non-null  object        \n",
      " 10  hashtags          18352 non-null  object        \n",
      " 11  has_media         18352 non-null  bool          \n",
      " 12  img_urls          18352 non-null  object        \n",
      " 13  video_url         0 non-null      float64       \n",
      " 14  likes             18352 non-null  int64         \n",
      " 15  retweets          18352 non-null  int64         \n",
      " 16  replies           18352 non-null  int64         \n",
      " 17  is_replied        18352 non-null  bool          \n",
      " 18  is_reply_to       18352 non-null  bool          \n",
      " 19  parent_tweet_id   4427 non-null   float64       \n",
      " 20  reply_to_users    18352 non-null  object        \n",
      "dtypes: bool(3), datetime64[ns](1), float64(2), int64(6), object(9)\n",
      "memory usage: 2.7+ MB\n"
     ]
    },
    {
     "name": "stderr",
     "output_type": "stream",
     "text": [
      "c:\\users\\diego\\appdata\\local\\programs\\python\\python38\\lib\\site-packages\\pandas\\core\\ops\\array_ops.py:253: FutureWarning: elementwise comparison failed; returning scalar instead, but in the future will perform elementwise comparison\n",
      "  res_values = method(rvalues)\n"
     ]
    }
   ],
   "source": [
    "# filtrar tweets con videos\n",
    "mask = ((data[\"has_media\"] == False) | ( (data[\"has_media\"] == True) & (data[\"video_url\"] == \"\")))\n",
    "data = data[mask]\n",
    "data.info()"
   ]
  },
  {
   "cell_type": "code",
   "execution_count": 22,
   "metadata": {},
   "outputs": [],
   "source": [
    "# conservar las variables necesarias para el análisis\n",
    "data = data.loc[:, [\"timestamp\", \"text\"]]      #solo toma etiquetas de índice y devuelve una fila o un marco de datos si la etiqueta de índice existe en el marco de datos \n",
    "\n",
    "# cambiar el nombre de las columnas\n",
    "data.columns = [\"fecha\", \"texto\"]     "
   ]
  },
  {
   "cell_type": "code",
   "execution_count": 24,
   "metadata": {},
   "outputs": [
    {
     "data": {
      "text/plain": [
       "<matplotlib.axes._subplots.AxesSubplot at 0x1bab066cc70>"
      ]
     },
     "execution_count": 24,
     "metadata": {},
     "output_type": "execute_result"
    },
    {
     "data": {
      "image/png": "[encoded data removed]",
      "text/plain": [
       "<Figure size 792x288 with 1 Axes>"
      ]
     },
     "metadata": {},
     "output_type": "display_data"
    }
   ],
   "source": [
    "# gráfico de frecuencia de tweets por día\n",
    "data.index = data[\"fecha\"]\n",
    "data.resample('D')[\"texto\"].count().plot(linewidth=0.5)  # datetime accessor pandas   # resample para agrupar toodas las fechas por dia deesde hasta."
   ]
  },
  {
   "cell_type": "code",
   "execution_count": 25,
   "metadata": {},
   "outputs": [],
   "source": [
    "# guardar los tweets completos en un csv para la etapa de predicción\n",
    "data.to_csv('recursos/prediccion/bd_tweets.csv', \n",
    "            index=False,\n",
    "            encoding=\"utf-8\")"
   ]
  },
  {
   "cell_type": "code",
   "execution_count": null,
   "metadata": {},
   "outputs": [],
   "source": []
  }
 ],
 "metadata": {
  "kernelspec": {
   "display_name": "Python 3",
   "language": "python",
   "name": "python3"
  },
  "language_info": {
   "codemirror_mode": {
    "name": "ipython",
    "version": 3
   },
   "file_extension": ".py",
   "mimetype": "text/x-python",
   "name": "python",
   "nbconvert_exporter": "python",
   "pygments_lexer": "ipython3",
   "version": "3.7.3"
  }
 },
 "nbformat": 4,
 "nbformat_minor": 4
}
